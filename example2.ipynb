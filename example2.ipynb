{
 "cells": [
  {
   "cell_type": "code",
   "execution_count": 2,
   "id": "394ea069-a872-4684-975d-f34150d86fe7",
   "metadata": {},
   "outputs": [
    {
     "name": "stdin",
     "output_type": "stream",
     "text": [
      "Enter the value: -5\n"
     ]
    },
    {
     "name": "stdout",
     "output_type": "stream",
     "text": [
      "negative value.\n"
     ]
    }
   ],
   "source": [
    "n=int(input('Enter the value:'))\n",
    "if n>=0:\n",
    "    print('Positive value.')\n",
    "else:\n",
    "    print('negative value.')"
   ]
  },
  {
   "cell_type": "code",
   "execution_count": 4,
   "id": "6b9ca083-2b60-4fd0-bfd6-fed551226850",
   "metadata": {},
   "outputs": [
    {
     "name": "stdin",
     "output_type": "stream",
     "text": [
      "Enter the value: 2\n",
      "Enter the value: 2\n"
     ]
    },
    {
     "name": "stdout",
     "output_type": "stream",
     "text": [
      "both are equal.\n"
     ]
    }
   ],
   "source": [
    "n1=int(input('Enter the value:'))\n",
    "n2=int(input('Enter the value:'))\n",
    "if n1>n2:\n",
    "    print('n1 is grater than n2.')\n",
    "elif n2>n1:\n",
    "    print('n2 is grater than n1.')\n",
    "else:\n",
    "    print('both are equal.')"
   ]
  },
  {
   "cell_type": "code",
   "execution_count": 5,
   "id": "747c3d72-0dd7-4396-83f0-2be49dac12fb",
   "metadata": {},
   "outputs": [
    {
     "name": "stdin",
     "output_type": "stream",
     "text": [
      "Enter the value: 23\n",
      "Enter the value: 34\n",
      "Enter the value: 54\n"
     ]
    },
    {
     "name": "stdout",
     "output_type": "stream",
     "text": [
      "c is greater.\n"
     ]
    }
   ],
   "source": [
    "a=int(input('Enter the value:'))\n",
    "b=int(input('Enter the value:'))\n",
    "c=int(input('Enter the value:'))\n",
    "if a>b and a>c:\n",
    "    print('a is greater.')\n",
    "elif b>a and b>c:\n",
    "    print('bis greater.')\n",
    "else:\n",
    "    print('c is greater.')"
   ]
  },
  {
   "cell_type": "code",
   "execution_count": 11,
   "id": "0964ca37-95d2-41df-b67f-288a68a556f7",
   "metadata": {},
   "outputs": [
    {
     "name": "stdout",
     "output_type": "stream",
     "text": [
      "123456789"
     ]
    }
   ],
   "source": [
    "for i in  range(1,10):\n",
    "    print(i,end='')\n",
    "    \n",
    "    "
   ]
  },
  {
   "cell_type": "raw",
   "id": "ba11e36f-45d2-4041-a22d-b5b621805c2a",
   "metadata": {},
   "source": [
    "s='themainthing.'\n",
    "    for i in s:\n",
    "        print(i)"
   ]
  },
  {
   "cell_type": "code",
   "execution_count": 13,
   "id": "45b5928d-e077-4fa4-9be7-bc0dd9c58773",
   "metadata": {},
   "outputs": [
    {
     "name": "stdout",
     "output_type": "stream",
     "text": [
      "-10 -9 -8 -7 -6 -5 -4 -3 -2 "
     ]
    }
   ],
   "source": [
    "for i in range(-10,-1):\n",
    "        print(i,end=' ')"
   ]
  },
  {
   "cell_type": "code",
   "execution_count": 18,
   "id": "10f6c122-b876-40e8-919b-78a166c60475",
   "metadata": {},
   "outputs": [
    {
     "name": "stdout",
     "output_type": "stream",
     "text": [
      ".gnihtniam eht"
     ]
    }
   ],
   "source": [
    "s='the mainthing.'\n",
    "for i in s[::-1]:\n",
    "     print(i,end='')"
   ]
  },
  {
   "cell_type": "code",
   "execution_count": 20,
   "id": "1e70ddfc-25c0-4cf7-a87e-4d28af071c63",
   "metadata": {},
   "outputs": [
    {
     "name": "stdout",
     "output_type": "stream",
     "text": [
      "123456"
     ]
    }
   ],
   "source": [
    "a=[1,2,3,4,5,6]\n",
    "for i in a:\n",
    "    print(i,end='')\n",
    "    "
   ]
  },
  {
   "cell_type": "code",
   "execution_count": 26,
   "id": "2b3a8298-18f9-40ea-9e4a-ad703ec90c3a",
   "metadata": {},
   "outputs": [
    {
     "name": "stdin",
     "output_type": "stream",
     "text": [
      "Enter the value: 112\n"
     ]
    },
    {
     "name": "stdout",
     "output_type": "stream",
     "text": [
      "112 * 1 = 112\n",
      "112 * 2 = 224\n",
      "112 * 3 = 336\n",
      "112 * 4 = 448\n",
      "112 * 5 = 560\n",
      "112 * 6 = 672\n",
      "112 * 7 = 784\n",
      "112 * 8 = 896\n",
      "112 * 9 = 1008\n",
      "112 * 10 = 1120\n"
     ]
    }
   ],
   "source": [
    "n=int(input('Enter the value:'))\n",
    "for i in range(1,11):\n",
    "      print(n,'*',i,'=',n*i)\n"
   ]
  },
  {
   "cell_type": "code",
   "execution_count": 27,
   "id": "57fda979-1dad-4f3f-9b08-610ea0ad4095",
   "metadata": {},
   "outputs": [
    {
     "name": "stdout",
     "output_type": "stream",
     "text": [
      "1\n",
      "3\n",
      "6\n",
      "10\n",
      "15\n",
      "21\n",
      "28\n",
      "36\n",
      "45\n",
      "55\n"
     ]
    }
   ],
   "source": [
    "n=0\n",
    "for i in range(1,11):\n",
    "    n=n+i\n",
    "    print(n)"
   ]
  },
  {
   "cell_type": "code",
   "execution_count": 29,
   "id": "07329b6a-8c9a-466e-80dd-24761c81566e",
   "metadata": {},
   "outputs": [
    {
     "name": "stdout",
     "output_type": "stream",
     "text": [
      "1 5\n",
      "1 6\n",
      "1 7\n",
      "1 8\n",
      "1 7\n",
      "2 5\n",
      "2 6\n",
      "2 7\n",
      "2 8\n",
      "2 7\n",
      "3 5\n",
      "3 6\n",
      "3 7\n",
      "3 8\n",
      "3 7\n",
      "4 5\n",
      "4 6\n",
      "4 7\n",
      "4 8\n",
      "4 7\n",
      "5 5\n",
      "5 6\n",
      "5 7\n",
      "5 8\n",
      "5 7\n"
     ]
    }
   ],
   "source": [
    "a=[1,2,3,4,5]\n",
    "b=[5,6,7,8,7]\n",
    "for i in a:\n",
    "    for j in b:\n",
    "        print(i,j)"
   ]
  },
  {
   "cell_type": "code",
   "execution_count": 30,
   "id": "1f7f71c2-b4f3-40c2-b825-c511e3d2e685",
   "metadata": {},
   "outputs": [
    {
     "name": "stdout",
     "output_type": "stream",
     "text": [
      "1\n",
      "2\n",
      "3\n",
      "4\n",
      "5\n",
      "6\n",
      "7\n",
      "8\n",
      "9\n",
      "10\n"
     ]
    }
   ],
   "source": [
    "i=1\n",
    "\n",
    "while i<=10:\n",
    "    print(i)\n",
    "    i=i+1"
   ]
  },
  {
   "cell_type": "code",
   "execution_count": 39,
   "id": "c75c0427-da29-4014-994b-18b310fe1989",
   "metadata": {},
   "outputs": [
    {
     "name": "stdout",
     "output_type": "stream",
     "text": [
      "1\n",
      "2\n",
      "3\n",
      "4\n",
      "5\n",
      "6\n",
      "7\n",
      "8\n",
      "9\n",
      "10\n",
      "55\n"
     ]
    }
   ],
   "source": [
    "i=1\n",
    "n=0\n",
    "while i<=10:\n",
    "     n=n+i\n",
    "     print(i)\n",
    "     i=i+1\n",
    "print(n)"
   ]
  },
  {
   "cell_type": "code",
   "execution_count": 45,
   "id": "a9e88f9c-1c20-48c7-a189-8b5069f8fff8",
   "metadata": {},
   "outputs": [
    {
     "name": "stdout",
     "output_type": "stream",
     "text": [
      "p\n",
      "y\n",
      "t\n",
      "o\n",
      "n\n"
     ]
    }
   ],
   "source": [
    "data='python'\n",
    "for i in data:\n",
    "   if i=='h':\n",
    "      continue\n",
    "   print(i)\n",
    "    "
   ]
  },
  {
   "cell_type": "code",
   "execution_count": 48,
   "id": "e8c4f188-962e-4dee-9dda-bcdeef3cf1b2",
   "metadata": {},
   "outputs": [
    {
     "name": "stdout",
     "output_type": "stream",
     "text": [
      "12\n"
     ]
    }
   ],
   "source": [
    "n=0\n",
    "data='elearnifotech'\n",
    "for i in data:\n",
    "    if i=='t':\n",
    "        pass\n",
    "    else:\n",
    "        n=n+1\n",
    "print(n)"
   ]
  },
  {
   "cell_type": "code",
   "execution_count": 53,
   "id": "d5398106-cbb1-4021-a690-30e8f10665a6",
   "metadata": {},
   "outputs": [
    {
     "name": "stdout",
     "output_type": "stream",
     "text": [
      "elearninfotech"
     ]
    }
   ],
   "source": [
    "data='elearninfotech'\n",
    "i=0\n",
    "while i<len(data):\n",
    "    print(data[i],end='')\n",
    "    i=i+1\n"
   ]
  },
  {
   "cell_type": "code",
   "execution_count": 58,
   "id": "ce135909-0324-4ad6-8eea-d9a747dce81a",
   "metadata": {},
   "outputs": [
    {
     "name": "stdout",
     "output_type": "stream",
     "text": [
      "1 2 3 4 5 6 7 "
     ]
    }
   ],
   "source": [
    "list=[1,2,3,4,5,6,7]\n",
    "i=0\n",
    "while i<len(list):\n",
    "    print(list[i],end=' ')\n",
    "    i=i+1"
   ]
  },
  {
   "cell_type": "code",
   "execution_count": 79,
   "id": "916fd68e-18c4-45b4-bcca-a5a15cc6d0e1",
   "metadata": {},
   "outputs": [
    {
     "name": "stdout",
     "output_type": "stream",
     "text": [
      "[1, 2, 3, 3, 4, 5, 6, 7, 8, 8]\n",
      "[1, 2, 3, 3, 4, 1, 2, 3, 3, 4, 1, 2, 3, 3, 4, 1, 2, 3, 3, 4, 1, 2, 3, 3, 4]\n",
      "8\n",
      "[5, 6, 7]\n",
      "[1, 2, 3, 3, 4, 5, 6, 7, 8, 8]\n"
     ]
    }
   ],
   "source": [
    "n=[1,2,3,3,4]\n",
    "c=[5,6,7,8,8]\n",
    "a=n+c\n",
    "print(a)\n",
    "print(n*5)\n",
    "print(c[3])\n",
    "print(c[:3])\n",
    "n.extend(c)\n",
    "print(n)\n",
    "\n",
    "\n",
    "\n"
   ]
  },
  {
   "cell_type": "code",
   "execution_count": 87,
   "id": "acef596b-e158-493f-9c09-4684bee8cce4",
   "metadata": {},
   "outputs": [
    {
     "name": "stdout",
     "output_type": "stream",
     "text": [
      "11\n",
      "[1, 2, 3, 4, 5, 5, 6, 6, 7, 7, 8]\n"
     ]
    }
   ],
   "source": [
    "a=[1,2,3,4,5,5,6,6,7,7,8]\n",
    "#a.append(9)\n",
    "#a.insert(5,10)\n",
    "#a.remove(2)\n",
    "#a.pop(8)\n",
    "#a.clear()\n",
    "#a.reverse()\n",
    "#a.sort()\n",
    "#print(len(a))\n",
    "\n"
   ]
  },
  {
   "cell_type": "code",
   "execution_count": null,
   "id": "c6f9cf93-109d-4515-82b1-2ad938c4a980",
   "metadata": {},
   "outputs": [],
   "source": []
  }
 ],
 "metadata": {
  "kernelspec": {
   "display_name": "Python 3 (ipykernel)",
   "language": "python",
   "name": "python3"
  },
  "language_info": {
   "codemirror_mode": {
    "name": "ipython",
    "version": 3
   },
   "file_extension": ".py",
   "mimetype": "text/x-python",
   "name": "python",
   "nbconvert_exporter": "python",
   "pygments_lexer": "ipython3",
   "version": "3.12.1"
  }
 },
 "nbformat": 4,
 "nbformat_minor": 5
}

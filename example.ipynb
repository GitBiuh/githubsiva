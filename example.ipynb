{
 "cells": [
  {
   "cell_type": "code",
   "execution_count": 1,
   "id": "e6ecee8a-dfc4-4943-92e6-667ac8ff533c",
   "metadata": {},
   "outputs": [
    {
     "name": "stdout",
     "output_type": "stream",
     "text": [
      "hellohellohello\n"
     ]
    }
   ],
   "source": [
    "a='hello'\n",
    "b=a*3\n",
    "print(b)"
   ]
  },
  {
   "cell_type": "code",
   "execution_count": 2,
   "id": "960d7d66-b217-4ed5-983e-c492b4845da5",
   "metadata": {},
   "outputs": [
    {
     "name": "stdout",
     "output_type": "stream",
     "text": [
      "hihello\n"
     ]
    }
   ],
   "source": [
    "a='hi'\n",
    "b='hello'\n",
    "print(a+b)"
   ]
  },
  {
   "cell_type": "code",
   "execution_count": 15,
   "id": "35fd1ccc-5403-472c-ba8b-75ba318c7397",
   "metadata": {},
   "outputs": [
    {
     "name": "stdout",
     "output_type": "stream",
     "text": [
      "HELLO FRIENDS\n",
      "hello friends\n",
      "HELLO FRIENDS\n",
      "Hello Friends\n",
      "Hello friends\n",
      "True\n",
      "False\n",
      "1\n",
      "4\n",
      "6\n"
     ]
    }
   ],
   "source": [
    "msg='hello friends'\n",
    "print(msg.upper())\n",
    "print(msg.lower())\n",
    "print(msg.swapcase())\n",
    "print(msg.title())\n",
    "print(msg.capitalize())\n",
    "print(msg.startswith('h'))\n",
    "print(msg.endswith('h'))\n",
    "print(msg.count('h'))\n",
    "print(msg.find('o'))\n",
    "print(msg.index('f'))"
   ]
  },
  {
   "cell_type": "code",
   "execution_count": 17,
   "id": "796c9e37-00a1-4b2b-b939-863348cfbb21",
   "metadata": {},
   "outputs": [
    {
     "name": "stdout",
     "output_type": "stream",
     "text": [
      "1#2#3#4#5#6#7\n"
     ]
    }
   ],
   "source": [
    "a='1234567'\n",
    "b='#'\n",
    "print(b.join(a))"
   ]
  },
  {
   "cell_type": "code",
   "execution_count": 48,
   "id": "50d62026-ad7a-4aa1-ac5d-adf65da9384b",
   "metadata": {},
   "outputs": [
    {
     "name": "stdout",
     "output_type": "stream",
     "text": [
      "['', 'his is a py', 'hon class a', ' elearn info', 'ech.']\n",
      "1\n",
      "this is a python class at elearn infotech.\n",
      "this is a python class at elearn infotech.    \n",
      "   this is a python class at elearn infotech.\n",
      "000000000000000000000000000000000this is a python class at elearn infotech.\n",
      "this is a python class at elearn infotech.\n",
      "************this is a python class at elearn infotech.***********\n",
      "thiS iS a python claSS at elearn infotech.\n",
      "b'this is a python class at elearn infotech.'\n",
      "42\n",
      "False\n",
      "False\n",
      "True\n",
      "False\n",
      "s\n",
      "a\n"
     ]
    }
   ],
   "source": [
    "data='this is a python class at elearn infotech.'\n",
    "print(data.split('t'))\n",
    "print(data.count('t',5,15))\n",
    "d='   this is a python class at elearn infotech.    '\n",
    "print(d.strip())\n",
    "print(d.lstrip())\n",
    "print(d.rstrip())\n",
    "print(data.zfill(75))\n",
    "print(data.zfill(5))\n",
    "print(data.center(65,'*'))\n",
    "print(data.replace('s','S'))\n",
    "print(data.encode())\n",
    "print(len(data))\n",
    "s='edrfrfd123'\n",
    "print(s.isalpha())\n",
    "print(s.isdigit())\n",
    "print(s.isalnum())\n",
    "print(data.isidentifier())\n",
    "print(data[6])\n",
    "print(data[-34])\n"
   ]
  },
  {
   "cell_type": "code",
   "execution_count": 55,
   "id": "af13c2df-e404-4082-aa60-e5710dd297a9",
   "metadata": {},
   "outputs": [
    {
     "name": "stdout",
     "output_type": "stream",
     "text": [
      "his \n",
      ".hcetofni nraele ta ssalc nohtyp a si siht\n",
      "this is a py\n",
      ".ctfinal asa\n"
     ]
    }
   ],
   "source": [
    "data='this is a python class at elearn infotech.'\n",
    "print(data[1:5])\n",
    "print(data[::-1])\n",
    "print(data[:12])\n",
    "print(data[-1:18:-2])"
   ]
  },
  {
   "cell_type": "code",
   "execution_count": null,
   "id": "f60abde5-034a-4aca-ac72-dd44054645ef",
   "metadata": {},
   "outputs": [],
   "source": []
  }
 ],
 "metadata": {
  "kernelspec": {
   "display_name": "Python 3 (ipykernel)",
   "language": "python",
   "name": "python3"
  },
  "language_info": {
   "codemirror_mode": {
    "name": "ipython",
    "version": 3
   },
   "file_extension": ".py",
   "mimetype": "text/x-python",
   "name": "python",
   "nbconvert_exporter": "python",
   "pygments_lexer": "ipython3",
   "version": "3.12.1"
  }
 },
 "nbformat": 4,
 "nbformat_minor": 5
}
